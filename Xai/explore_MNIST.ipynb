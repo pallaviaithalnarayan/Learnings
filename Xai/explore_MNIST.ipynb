{
 "cells": [
  {
   "cell_type": "code",
   "execution_count": 4,
   "metadata": {},
   "outputs": [],
   "source": [
    "import torch\n",
    "import torch.nn as nn\n",
    "import torch.optim as optim\n",
    "from torchvision import datasets, transforms\n",
    "import matplotlib.pyplot as plt\n",
    "\n",
    "device = torch.device(\"cuda\" if torch.cuda.is_available() else \"cpu\")\n",
    "\n",
    "transform = transforms.Compose([\n",
    "    transforms.ToTensor(),\n",
    "    transforms.Normalize((0.1307,), (0.3081,))\n",
    "])\n",
    "\n",
    "trainset = datasets.MNIST(root='./data', train=True, download=True, transform=transform)\n",
    "trainloader = torch.utils.data.DataLoader(trainset, batch_size=64, shuffle=True)\n",
    "\n",
    "testset = datasets.MNIST(root='./data', train=False, download=True, transform=transform)\n",
    "testloader = torch.utils.data.DataLoader(testset, batch_size=64, shuffle=False)\n",
    "\n",
    "class SimpleCNN(nn.Module):\n",
    "    def __init__(self):\n",
    "        super(SimpleCNN, self).__init__()\n",
    "        self.conv1 = nn.Conv2d(1, 16, 3, 1)\n",
    "        self.conv2 = nn.Conv2d(16, 32, 3, 1)\n",
    "        self.fc1 = nn.LazyLinear(128)\n",
    "        self.fc2 = nn.Linear(128, 10)\n",
    "\n",
    "    def forward(self, x):\n",
    "        x = torch.relu(self.conv1(x))\n",
    "        x = torch.relu(self.conv2(x))\n",
    "        x = torch.flatten(x, 1)\n",
    "        x = torch.relu(self.fc1(x))\n",
    "        x = self.fc2(x)\n",
    "\n",
    "        return x\n",
    "\n",
    "model = SimpleCNN().to(device)\n",
    "\n",
    "#Loss and optimizer\n",
    "criterion = nn.CrossEntropyLoss()\n",
    "optimizer = optim.Adam(model.parameters(), lr=0.001)\n",
    "\n",
    "# Train for few epochs\n",
    "for epoch in range(5):\n",
    "    model.train()\n",
    "    running_loss = 0.0\n",
    "    for images, labels in trainloader:\n",
    "        images, labels = images.to(device), labels.to(device)\n",
    "\n",
    "        optimizer.zero_grad()\n",
    "        outputs = model(images)\n",
    "        loss = criterion(outputs, labels)\n",
    "        loss.backward()\n",
    "        optimizer.step()\n",
    "\n",
    "        running_loss += loss.item()\n",
    "    print(f'Epoch [{epoch+1}/5], Loss: {running_loss/len(trainloader): .4f}')\n",
    "\n",
    "torch.save(model.state_dict(), \"simple_mnist_cnn.pth\")\n"
   ]
  },
  {
   "attachments": {},
   "cell_type": "markdown",
   "metadata": {},
   "source": [
    "Activation maximization with Gradient Ascent"
   ]
  },
  {
   "cell_type": "code",
   "execution_count": 3,
   "metadata": {},
   "outputs": [
    {
     "ename": "NameError",
     "evalue": "name 'SimpleCNN' is not defined",
     "output_type": "error",
     "traceback": [
      "\u001b[0;31m---------------------------------------------------------------------------\u001b[0m",
      "\u001b[0;31mNameError\u001b[0m                                 Traceback (most recent call last)",
      "Cell \u001b[0;32mIn[3], line 4\u001b[0m\n\u001b[1;32m      1\u001b[0m \u001b[39m# Part 2: Activation Maximization\u001b[39;00m\n\u001b[1;32m      2\u001b[0m \n\u001b[1;32m      3\u001b[0m \u001b[39m# Load model again in eval mode\u001b[39;00m\n\u001b[0;32m----> 4\u001b[0m model \u001b[39m=\u001b[39m SimpleCNN()\u001b[39m.\u001b[39mto(device)\n\u001b[1;32m      5\u001b[0m model\u001b[39m.\u001b[39mload_state_dict(torch\u001b[39m.\u001b[39mload(\u001b[39m\"\u001b[39m\u001b[39msimple_mnist_cnn.pth\u001b[39m\u001b[39m\"\u001b[39m))\n\u001b[1;32m      6\u001b[0m model\u001b[39m.\u001b[39meval()\n",
      "\u001b[0;31mNameError\u001b[0m: name 'SimpleCNN' is not defined"
     ]
    }
   ],
   "source": [
    "# Part 2: Activation Maximization\n",
    "\n",
    "# Load model again in eval mode\n",
    "model = SimpleCNN().to(device)\n",
    "model.load_state_dict(torch.load(\"simple_mnist_cnn.pth\"))\n",
    "model.eval()\n",
    "\n",
    "# Target class neuron — let's say 7\n",
    "target_class = 7\n",
    "\n",
    "# Start with random noise image\n",
    "input_img = torch.randn((1, 1, 28, 28), requires_grad=True, device=device)\n",
    "\n",
    "# Optimizer on input image\n",
    "optimizer = optim.Adam([input_img], lr=0.1)\n",
    "\n",
    "# Store images for visualization\n",
    "images_over_time = []\n",
    "\n",
    "# Activation Maximization loop\n",
    "for step in range(200):\n",
    "    optimizer.zero_grad()\n",
    "    output = model(input_img)\n",
    "    target_activation = output[0, target_class]\n",
    "    \n",
    "    # We want to maximize activation → loss = -activation\n",
    "    loss = -target_activation\n",
    "    loss.backward()\n",
    "    optimizer.step()\n",
    "    \n",
    "    # Optional: clamp image pixels between 0 and 1\n",
    "    input_img.data.clamp_(0, 1)\n",
    "    \n",
    "    # Store images at intervals\n",
    "    if step % 20 == 0:\n",
    "        img_cpu = input_img.detach().cpu().squeeze().clone()\n",
    "        images_over_time.append(img_cpu)\n",
    "\n",
    "print(\"Activation Maximization completed!\")\n"
   ]
  },
  {
   "cell_type": "code",
   "execution_count": null,
   "metadata": {},
   "outputs": [],
   "source": []
  }
 ],
 "metadata": {
  "kernelspec": {
   "display_name": "sss",
   "language": "python",
   "name": "python3"
  },
  "language_info": {
   "codemirror_mode": {
    "name": "ipython",
    "version": 3
   },
   "file_extension": ".py",
   "mimetype": "text/x-python",
   "name": "python",
   "nbconvert_exporter": "python",
   "pygments_lexer": "ipython3",
   "version": "3.10.18"
  },
  "orig_nbformat": 4
 },
 "nbformat": 4,
 "nbformat_minor": 2
}
