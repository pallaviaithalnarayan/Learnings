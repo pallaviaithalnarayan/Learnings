{
 "cells": [
  {
   "cell_type": "markdown",
   "metadata": {},
   "source": [
    "I'll create some practice scenarios for you. For each one, try to:\n",
    "1. Write the null and alternative hypotheses\n",
    "2. Identify if groups are independent/dependent\n",
    "3. I'll tell you if the data is normal/non-normal\n",
    "4. Select the appropriate test based on these factors\n",
    "\n",
    "Question 1:\n",
    "A researcher wants to compare the average daily steps between male and female college students.\n",
    "* Data: Daily step counts for 30 males and 30 females\n",
    "* Normality test shows: Normal distribution (p > 0.05)\n",
    "\n",
    "Question 2:\n",
    "A doctor is studying blood pressure readings before and after administering a new medication to 25 patients.\n",
    "* Data: Systolic blood pressure measurements\n",
    "* Normality test shows: Non-normal distribution (p < 0.05)\n",
    "\n",
    "Question 3:\n",
    "A company wants to know if their employees' actual working hours differ from the standard 40-hour work week.\n",
    "* Data: Weekly working hours of 50 employees\n",
    "* Normality test shows: Normal distribution (p > 0.05)\n",
    "\n",
    "Question 4:\n",
    "A fitness trainer is comparing weight loss between two different diet programs (Program A and Program B).\n",
    "* Data: Weight loss after 8 weeks for 20 people in each program\n",
    "* Normality test shows: Non-normal distribution (p < 0.05)\n",
    "\n",
    "Would you like to try answering any of these? We can go through them one by one, and I can help guide your thinking process."
   ]
  },
  {
   "cell_type": "markdown",
   "metadata": {},
   "source": [
    "Statistical tests\n",
    "\n",
    "1. Load Data\n",
    "\n",
    "2. State hypothesis and significance\n",
    "- Null hypothesis - no difference between groups or no relationship between variables\n",
    "- Alternative hypotheses - claim - what u expect ur data to show\n",
    "\n",
    "3. Data statistics and plotting (KDE - real data, bar plot - discrete)\n",
    "- look for number of samples\n",
    "- mean value/median\n",
    "- Plotting: real number plotting, discrete values plotting\n",
    "- KDE, bar, regression - scatter plot\n",
    "\n",
    "4. Remove outliers if any\n",
    "\n",
    "5. check for normality\n",
    "- 1. if the normality test passes then use t-test \n",
    "    -- otherwise, \n",
    "    - bwtween subjects(2 different groups): use Mann-Whitney U test for independent t-test\n",
    "    - within subjects(same related group): use Wicoxon test\n",
    "\n",
    "    - single sample, binomial\n",
    "    - independent t-test , man-whitney ( 2 groups on 2 different conditions)\n",
    "    - paired t-test, wicoxon test (related group on 2 conditions looking at the same time)\n",
    "    - more than 2 groups : Anova test\n",
    "\n",
    "6. Based on alternative hypothesis, normality test justify the chosen test\n",
    "\n",
    "7. conduct the test\n",
    "- alternative = 'two-sided'\n",
    "\n",
    "8. Report on test\n",
    "- sample size\n",
    "- hypothesis\n",
    "- significance level\n",
    "- test name \n",
    "\n",
    "Example:\n",
    "\n",
    "Reporting the result, a wilcoxon's signed-rank test showed that hypotherapy significantly reduces anxiety scores(Mdn=15) compared to pre-therapy(Mdn=22) W = 322, p<0.001"
   ]
  },
  {
   "cell_type": "markdown",
   "metadata": {},
   "source": []
  }
 ],
 "metadata": {
  "language_info": {
   "name": "python"
  }
 },
 "nbformat": 4,
 "nbformat_minor": 2
}
