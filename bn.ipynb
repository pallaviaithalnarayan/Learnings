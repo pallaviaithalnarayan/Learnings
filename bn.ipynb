{
 "cells": [
  {
   "cell_type": "code",
   "execution_count": 2,
   "metadata": {},
   "outputs": [
    {
     "name": "stdout",
     "output_type": "stream",
     "text": [
      "Collecting pyAgrum\n",
      "  Downloading pyAgrum-1.15.1-cp39-cp39-win_amd64.whl.metadata (4.2 kB)\n",
      "Requirement already satisfied: numpy in c:\\users\\palla\\.conda\\envs\\cudalab\\lib\\site-packages (from pyAgrum) (1.26.4)\n",
      "Requirement already satisfied: matplotlib in c:\\users\\palla\\.conda\\envs\\cudalab\\lib\\site-packages (from pyAgrum) (3.9.2)\n",
      "Collecting pydot (from pyAgrum)\n",
      "  Using cached pydot-3.0.4-py3-none-any.whl.metadata (10 kB)\n",
      "Requirement already satisfied: contourpy>=1.0.1 in c:\\users\\palla\\.conda\\envs\\cudalab\\lib\\site-packages (from matplotlib->pyAgrum) (1.2.0)\n",
      "Requirement already satisfied: cycler>=0.10 in c:\\users\\palla\\.conda\\envs\\cudalab\\lib\\site-packages (from matplotlib->pyAgrum) (0.11.0)\n",
      "Requirement already satisfied: fonttools>=4.22.0 in c:\\users\\palla\\.conda\\envs\\cudalab\\lib\\site-packages (from matplotlib->pyAgrum) (4.51.0)\n",
      "Requirement already satisfied: kiwisolver>=1.3.1 in c:\\users\\palla\\.conda\\envs\\cudalab\\lib\\site-packages (from matplotlib->pyAgrum) (1.4.4)\n",
      "Requirement already satisfied: packaging>=20.0 in c:\\users\\palla\\.conda\\envs\\cudalab\\lib\\site-packages (from matplotlib->pyAgrum) (24.1)\n",
      "Requirement already satisfied: pillow>=8 in c:\\users\\palla\\.conda\\envs\\cudalab\\lib\\site-packages (from matplotlib->pyAgrum) (10.4.0)\n",
      "Requirement already satisfied: pyparsing>=2.3.1 in c:\\users\\palla\\.conda\\envs\\cudalab\\lib\\site-packages (from matplotlib->pyAgrum) (3.1.2)\n",
      "Requirement already satisfied: python-dateutil>=2.7 in c:\\users\\palla\\.conda\\envs\\cudalab\\lib\\site-packages (from matplotlib->pyAgrum) (2.9.0.post0)\n",
      "Requirement already satisfied: importlib-resources>=3.2.0 in c:\\users\\palla\\.conda\\envs\\cudalab\\lib\\site-packages (from matplotlib->pyAgrum) (6.4.0)\n",
      "Requirement already satisfied: zipp>=3.1.0 in c:\\users\\palla\\.conda\\envs\\cudalab\\lib\\site-packages (from importlib-resources>=3.2.0->matplotlib->pyAgrum) (3.20.2)\n",
      "Requirement already satisfied: six>=1.5 in c:\\users\\palla\\.conda\\envs\\cudalab\\lib\\site-packages (from python-dateutil>=2.7->matplotlib->pyAgrum) (1.16.0)\n",
      "Downloading pyAgrum-1.15.1-cp39-cp39-win_amd64.whl (2.7 MB)\n",
      "   ---------------------------------------- 0.0/2.7 MB ? eta -:--:--\n",
      "   ------------------- -------------------- 1.3/2.7 MB 9.5 MB/s eta 0:00:01\n",
      "   ---------------------------------------- 2.7/2.7 MB 7.4 MB/s eta 0:00:00\n",
      "Using cached pydot-3.0.4-py3-none-any.whl (35 kB)\n",
      "Installing collected packages: pydot, pyAgrum\n",
      "Successfully installed pyAgrum-1.15.1 pydot-3.0.4\n",
      "Graphviz is not installed. \n",
      "  Please install this program in order to visualize graphical models in pyAgrum. \n",
      "  See https://graphviz.org/download/\n"
     ]
    }
   ],
   "source": [
    "# ! pip install pyAgrum\n",
    "import pyAgrum as gum\n",
    "import pyAgrum.lib.notebook as gnb"
   ]
  },
  {
   "cell_type": "code",
   "execution_count": 21,
   "metadata": {},
   "outputs": [
    {
     "data": {
      "text/html": [
       "<table style=\"border:1px solid black;border-collapse: collapse;\">\n",
       "<tr style='border:1px solid black;color:black;background-color:#808080'>\n",
       "      <th colspan='2'><center>is_bores</center></th></tr>\n",
       "<tr><th style='border:1px solid black;border-bottom-style: double;color:black;background-color:#BBBBBB'>\n",
       "      <center>Yes</center></th><th style='border:1px solid black;border-bottom-style: double;color:black;background-color:#BBBBBB'>\n",
       "      <center>No</center></th></tr>\n",
       "<tr><td style='color:black;background-color:#bfbf64;text-align:right;padding: 3px;'>0.5000</td><td style='color:black;background-color:#bfbf64;text-align:right;padding: 3px;'>0.5000</td></tr>\n",
       "</table>"
      ],
      "text/plain": [
       "(pyAgrum.Potential<double>@000001E5B81F95C0) \n",
       "  is_bores         |\n",
       "Yes      |No       |\n",
       "---------|---------|\n",
       " 0.5000  | 0.5000  |"
      ]
     },
     "execution_count": 21,
     "metadata": {},
     "output_type": "execute_result"
    }
   ],
   "source": [
    "# bn\n",
    "bn = gum.BayesNet('Test')\n",
    "\n",
    "# add nodes\n",
    "is_bored = bn.add(gum.LabelizedVariable('is_bores', 'Is Bored?', ['Yes', 'No']))\n",
    "watch_tv = bn.add(gum.LabelizedVariable('watch_tv', 'watch_tv?', ['Yes', 'No']))\n",
    "go_to_live_room = bn.add(gum.LabelizedVariable('goto', 'Go to living room?', ['True', 'False']))\n",
    "\n",
    "# add dependencies\n",
    "\n",
    "bn.addArc(is_bored, watch_tv)\n",
    "bn.addArc(watch_tv, go_to_live_room)\n",
    "\n",
    "# cpt\n",
    "\n",
    "bn.cpt(is_bored).fillWith([0.5, 0.5])\n",
    "bn.cpt(watch_tv).fillWith([])\n",
    "\n"
   ]
  },
  {
   "cell_type": "code",
   "execution_count": null,
   "metadata": {},
   "outputs": [],
   "source": [
    "\n"
   ]
  }
 ],
 "metadata": {
  "kernelspec": {
   "display_name": "cudalab",
   "language": "python",
   "name": "python3"
  },
  "language_info": {
   "codemirror_mode": {
    "name": "ipython",
    "version": 3
   },
   "file_extension": ".py",
   "mimetype": "text/x-python",
   "name": "python",
   "nbconvert_exporter": "python",
   "pygments_lexer": "ipython3",
   "version": "3.9.20"
  }
 },
 "nbformat": 4,
 "nbformat_minor": 2
}
