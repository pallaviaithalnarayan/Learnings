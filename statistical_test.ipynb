{
 "cells": [
  {
   "cell_type": "code",
   "execution_count": 1,
   "metadata": {},
   "outputs": [],
   "source": [
    "import numpy as np\n",
    "import matplotlib.pyplot as plt\n",
    "from scipy import stats\n",
    "import seaborn as sns\n",
    "import math\n",
    "import pandas as pd"
   ]
  },
  {
   "cell_type": "code",
   "execution_count": 2,
   "metadata": {},
   "outputs": [],
   "source": [
    "# load data\n",
    "\n",
    "file_path = r'C:\\Users\\palla\\Downloads\\hcir-lecturtes\\lecture-11-statistical_test_slides_exercises_Jan2025_final\\statistical_test_slides_exercises_Jan2025_final\\Data-for-handbook-upload\\Wilcoxons rank.csv'\n",
    "\n",
    "df = pd.read_csv(file_path)\n",
    "\n"
   ]
  },
  {
   "cell_type": "code",
   "execution_count": 3,
   "metadata": {},
   "outputs": [
    {
     "data": {
      "text/html": [
       "<div>\n",
       "<style scoped>\n",
       "    .dataframe tbody tr th:only-of-type {\n",
       "        vertical-align: middle;\n",
       "    }\n",
       "\n",
       "    .dataframe tbody tr th {\n",
       "        vertical-align: top;\n",
       "    }\n",
       "\n",
       "    .dataframe thead th {\n",
       "        text-align: right;\n",
       "    }\n",
       "</style>\n",
       "<table border=\"1\" class=\"dataframe\">\n",
       "  <thead>\n",
       "    <tr style=\"text-align: right;\">\n",
       "      <th></th>\n",
       "      <th>Pre-anxiety</th>\n",
       "      <th>Post-anxiety</th>\n",
       "    </tr>\n",
       "  </thead>\n",
       "  <tbody>\n",
       "    <tr>\n",
       "      <th>count</th>\n",
       "      <td>29.000000</td>\n",
       "      <td>29.000000</td>\n",
       "    </tr>\n",
       "    <tr>\n",
       "      <th>mean</th>\n",
       "      <td>21.034483</td>\n",
       "      <td>14.827586</td>\n",
       "    </tr>\n",
       "    <tr>\n",
       "      <th>std</th>\n",
       "      <td>5.766175</td>\n",
       "      <td>3.306584</td>\n",
       "    </tr>\n",
       "    <tr>\n",
       "      <th>min</th>\n",
       "      <td>10.000000</td>\n",
       "      <td>8.000000</td>\n",
       "    </tr>\n",
       "    <tr>\n",
       "      <th>25%</th>\n",
       "      <td>17.000000</td>\n",
       "      <td>13.000000</td>\n",
       "    </tr>\n",
       "    <tr>\n",
       "      <th>50%</th>\n",
       "      <td>22.000000</td>\n",
       "      <td>15.000000</td>\n",
       "    </tr>\n",
       "    <tr>\n",
       "      <th>75%</th>\n",
       "      <td>25.000000</td>\n",
       "      <td>18.000000</td>\n",
       "    </tr>\n",
       "    <tr>\n",
       "      <th>max</th>\n",
       "      <td>32.000000</td>\n",
       "      <td>21.000000</td>\n",
       "    </tr>\n",
       "  </tbody>\n",
       "</table>\n",
       "</div>"
      ],
      "text/plain": [
       "       Pre-anxiety  Post-anxiety\n",
       "count    29.000000     29.000000\n",
       "mean     21.034483     14.827586\n",
       "std       5.766175      3.306584\n",
       "min      10.000000      8.000000\n",
       "25%      17.000000     13.000000\n",
       "50%      22.000000     15.000000\n",
       "75%      25.000000     18.000000\n",
       "max      32.000000     21.000000"
      ]
     },
     "execution_count": 3,
     "metadata": {},
     "output_type": "execute_result"
    }
   ],
   "source": [
    "# describe\n",
    "\n",
    "df.describe()"
   ]
  },
  {
   "cell_type": "code",
   "execution_count": 9,
   "metadata": {},
   "outputs": [
    {
     "data": {
      "text/plain": [
       "<Axes: ylabel='Count'>"
      ]
     },
     "execution_count": 9,
     "metadata": {},
     "output_type": "execute_result"
    },
    {
     "data": {
      "image/png": "[encoded data removed]",
      "text/plain": [
       "<Figure size 1000x500 with 3 Axes>"
      ]
     },
     "metadata": {},
     "output_type": "display_data"
    }
   ],
   "source": [
    "# plot\n",
    "\n",
    "plt.figure(figsize=(10,5))\n",
    "plt.subplot(1,3,1)\n",
    "sns.barplot(data=df)\n",
    "plt.subplot(1,3,2)\n",
    "sns.boxplot(data=df)\n",
    "plt.subplot(1,3,3)\n",
    "sns.histplot(data=df)"
   ]
  },
  {
   "cell_type": "code",
   "execution_count": 23,
   "metadata": {},
   "outputs": [
    {
     "name": "stdout",
     "output_type": "stream",
     "text": [
      "no outliers\n"
     ]
    }
   ],
   "source": [
    "# remove outlier\n",
    "from scipy.stats import iqr\n",
    "\n",
    "Q1 =  df.groupby('Pre-anxiety')['Pre-anxiety'].transform(lambda x: x.quantile(0.25))\n",
    "Q3 = df.groupby('Pre-anxiety')['Pre-anxiety'].transform(lambda x: x.quantile(0.75))\n",
    "\n",
    "IQR = df.groupby('Pre-anxiety')['Pre-anxiety'].transform(iqr)\n",
    "\n",
    "has_outlier = df[(df['Post-anxiety'] >= Q1 - 1.5 * IQR) | (df['Post-anxiety'] <= Q3 + 1.5 * IQR)]\n",
    "\n",
    "if has_outlier.empty:\n",
    "    print(len(has_outlier))\n",
    "else:\n",
    "    print(\"no outliers\")\n",
    "# print(has_outlier)"
   ]
  },
  {
   "cell_type": "code",
   "execution_count": 29,
   "metadata": {},
   "outputs": [
    {
     "name": "stdout",
     "output_type": "stream",
     "text": [
      "0.9613889900403882 0.3555131580274171 0.9658655857973096 0.45374413394067614\n"
     ]
    }
   ],
   "source": [
    "# Check for normality test\n",
    "\n",
    "stats_val, p_val = stats.shapiro(df['Post-anxiety'])\n",
    "stats_val1, p_val1 = stats.shapiro(df['Pre-anxiety'])\n",
    "\n",
    "print(stats_val, p_val, stats_val1, p_val1)"
   ]
  },
  {
   "cell_type": "code",
   "execution_count": 34,
   "metadata": {},
   "outputs": [
    {
     "name": "stdout",
     "output_type": "stream",
     "text": [
      "WilcoxonResult(statistic=0.0, pvalue=3.725290298461914e-09) WilcoxonResult(statistic=0.0, pvalue=3.725290298461914e-09)\n"
     ]
    }
   ],
   "source": [
    "# as the p_val < 0.05, normality test failed \n",
    "# use wilcoxon\n",
    "\n",
    "final_stats = stats.wilcoxon(df['Post-anxiety'], alternative='two-sided')\n",
    "final_stats_1 = stats.wilcoxon(df['Pre-anxiety'], alternative='two-sided')\n",
    "\n",
    "print(final_stats, final_stats_1)\n"
   ]
  },
  {
   "cell_type": "code",
   "execution_count": null,
   "metadata": {},
   "outputs": [],
   "source": []
  }
 ],
 "metadata": {
  "kernelspec": {
   "display_name": "cudalab",
   "language": "python",
   "name": "python3"
  },
  "language_info": {
   "codemirror_mode": {
    "name": "ipython",
    "version": 3
   },
   "file_extension": ".py",
   "mimetype": "text/x-python",
   "name": "python",
   "nbconvert_exporter": "python",
   "pygments_lexer": "ipython3",
   "version": "3.9.20"
  }
 },
 "nbformat": 4,
 "nbformat_minor": 2
}
